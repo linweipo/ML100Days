{
 "cells": [
  {
   "cell_type": "markdown",
   "metadata": {
    "id": "oef8c2jr-PZY"
   },
   "source": [
    "作業目標<br>\n",
    "計算有缺失值的資料，統計量實作<br>\n",
    "作業重點<br>\n",
    "當遇到缺失值有函式可以處理，不須額外寫程式刪除<br>\n",
    "計算統計量時不能出現缺失值"
   ]
  },
  {
   "cell_type": "markdown",
   "metadata": {
    "id": "4YgL8NF4-Ru3"
   },
   "source": [
    "題目:<br>\n",
    "english_score = np.array([55,89,76,65,48,70])<br>\n",
    "math_score = np.array([60,85,60,68,np.nan,60])<br>\n",
    "chinese_score = np.array([65,90,82,72,66,77])<br>\n",
    "上3列共六位同學的英文、數學、國文成績，第一個元素代表第一位同學，舉例第一位同學英文55分、數學60分、國文65分，今天第五位同學因某原因沒來考試，導致數學成績缺值，運用上列數據回答下列問題。<br>\n",
    "1. 請計算各科成績平均、最大值、最小值、標準差，其中數學缺一筆資料可忽略?\n",
    "2. 第五位同學補考數學後成績為55，請計算補考後數學成績平均、最大值、最小值、標準差?\n",
    "3. 用補考後資料找出與國文成績相關係數最高的學科?"
   ]
  },
  {
   "cell_type": "code",
   "execution_count": 1,
   "metadata": {
    "executionInfo": {
     "elapsed": 617,
     "status": "ok",
     "timestamp": 1609854566856,
     "user": {
      "displayName": "献竤黃",
      "photoUrl": "",
      "userId": "07529243043474362942"
     },
     "user_tz": -480
    },
    "id": "QwsKU8qO-RK7"
   },
   "outputs": [],
   "source": [
    "import numpy as np"
   ]
  },
  {
   "cell_type": "code",
   "execution_count": 2,
   "metadata": {
    "executionInfo": {
     "elapsed": 1016,
     "status": "ok",
     "timestamp": 1609854567261,
     "user": {
      "displayName": "献竤黃",
      "photoUrl": "",
      "userId": "07529243043474362942"
     },
     "user_tz": -480
    },
    "id": "B5BqDQAe_czh"
   },
   "outputs": [],
   "source": [
    "english_score = np.array([55,89,76,65,48,70])\n",
    "math_score = np.array([60,85,60,68,np.nan,60])\n",
    "chinese_score = np.array([65,90,82,72,66,77])"
   ]
  },
  {
   "cell_type": "code",
   "execution_count": 7,
   "metadata": {
    "executionInfo": {
     "elapsed": 1005,
     "status": "ok",
     "timestamp": 1609854567262,
     "user": {
      "displayName": "献竤黃",
      "photoUrl": "",
      "userId": "07529243043474362942"
     },
     "user_tz": -480
    },
    "id": "K3tUA6u9aI3N"
   },
   "outputs": [
    {
     "name": "stdout",
     "output_type": "stream",
     "text": [
      "平均:英文 67.16666666666667 數學 66.6 國文 75.33333333333333\n",
      "最高分:英文 89 數學 85.0 國文 90\n",
      "最低分:英文 48 數學 60.0 國文 65\n",
      "標準差:英文 13.433995020924426 數學 9.707728879609279 國文 8.825468196582484\n"
     ]
    }
   ],
   "source": [
    "#1. 請計算各科成績平均、最大值、最小值、標準差，其中數學缺一筆資料可忽略?\n",
    "\n",
    "print(\"平均:英文\", np.mean(english_score), \"數學\", np.nanmean(math_score),\"國文\", np.mean(chinese_score))\n",
    "print(\"最高分:英文\", np.max(english_score), \"數學\", np.nanmax(math_score),\"國文\", np.max(chinese_score))\n",
    "print(\"最低分:英文\", np.min(english_score), \"數學\", np.nanmin(math_score),\"國文\", np.min(chinese_score))\n",
    "print(\"標準差:英文\", np.std(english_score), \"數學\", np.nanstd(math_score),\"國文\", np.std(chinese_score))\n"
   ]
  },
  {
   "cell_type": "code",
   "execution_count": 18,
   "metadata": {
    "executionInfo": {
     "elapsed": 996,
     "status": "ok",
     "timestamp": 1609854567262,
     "user": {
      "displayName": "献竤黃",
      "photoUrl": "",
      "userId": "07529243043474362942"
     },
     "user_tz": -480
    },
    "id": "mXjDzvSrbLlf"
   },
   "outputs": [
    {
     "name": "stdout",
     "output_type": "stream",
     "text": [
      "新的數學成績為: [60. 85. 60. 68. 55. 60.]\n",
      "平均: 64.66666666666667\n",
      "最高分: 85.0\n",
      "最低分: 55.0\n",
      "標準差: 9.860132971832694\n"
     ]
    }
   ],
   "source": [
    "#2. 第五位同學補考數學後成績為55，請計算補考後數學成績平均、最大值、最小值、標準差?\n",
    "math_score_2 = math_score\n",
    "math_score_2[4] = 55\n",
    "\n",
    "print(\"新的數學成績為:\", math_score_2)\n",
    "print(\"平均:\", np.nanmean(math_score_2))\n",
    "print(\"最高分:\", np.nanmax(math_score_2))\n",
    "print(\"最低分:\", np.nanmin(math_score_2))\n",
    "print(\"標準差:\", np.nanstd(math_score_2))\n",
    "\n"
   ]
  },
  {
   "cell_type": "code",
   "execution_count": 33,
   "metadata": {
    "executionInfo": {
     "elapsed": 989,
     "status": "ok",
     "timestamp": 1609854567264,
     "user": {
      "displayName": "献竤黃",
      "photoUrl": "",
      "userId": "07529243043474362942"
     },
     "user_tz": -480
    },
    "id": "SaGolKx0cKoU"
   },
   "outputs": [
    {
     "name": "stdout",
     "output_type": "stream",
     "text": [
      "數學的相關係數矩陣為\n",
      " [[1.         0.74056803]\n",
      " [0.74056803 1.        ]]\n",
      "英文的相關係數矩陣為\n",
      " [[1.         0.97792828]\n",
      " [0.97792828 1.        ]]\n",
      "英文係數高\n"
     ]
    }
   ],
   "source": [
    "#3. 用補考後資料找出與國文成績相關係數最高的學科?\n",
    "\n",
    "r_math = np.corrcoef(chinese_score ,math_score_2)\n",
    "print(\"數學的相關係數矩陣為\\n\" ,r_math)\n",
    "rr_math = r_math[1][0]\n",
    "r_english = np.corrcoef(chinese_score, english_score)\n",
    "print(\"英文的相關係數矩陣為\\n\" ,r_english)\n",
    "rr_english = r_english[1][0]\n",
    "\n",
    "if rr_math > rr_english:\n",
    "    print(\"數學係數高\")\n",
    "elif rr_math == rr_english:\n",
    "    print(\"英文數學係數一樣\")\n",
    "else:\n",
    "    print(\"英文係數高\")"
   ]
  },
  {
   "cell_type": "code",
   "execution_count": 5,
   "metadata": {
    "executionInfo": {
     "elapsed": 987,
     "status": "ok",
     "timestamp": 1609854567264,
     "user": {
      "displayName": "献竤黃",
      "photoUrl": "",
      "userId": "07529243043474362942"
     },
     "user_tz": -480
    },
    "id": "fTNlLZ9Pzyiy"
   },
   "outputs": [],
   "source": []
  }
 ],
 "metadata": {
  "colab": {
   "authorship_tag": "ABX9TyPtywwDR7TsGGEOMGYLDT5h",
   "collapsed_sections": [],
   "name": "作業Hong題目.ipynb",
   "provenance": []
  },
  "kernelspec": {
   "display_name": "Python 3",
   "language": "python",
   "name": "python3"
  },
  "language_info": {
   "codemirror_mode": {
    "name": "ipython",
    "version": 3
   },
   "file_extension": ".py",
   "mimetype": "text/x-python",
   "name": "python",
   "nbconvert_exporter": "python",
   "pygments_lexer": "ipython3",
   "version": "3.8.5"
  }
 },
 "nbformat": 4,
 "nbformat_minor": 1
}
